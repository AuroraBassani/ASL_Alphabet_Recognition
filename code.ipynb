{
 "cells": [
  {
   "cell_type": "markdown",
   "metadata": {
    "id": "5ynYSZ01Wjf_"
   },
   "source": [
    "### Setup"
   ]
  },
  {
   "cell_type": "code",
   "execution_count": 1,
   "metadata": {
    "id": "9aU1U6OusWc0"
   },
   "outputs": [],
   "source": [
    "import numpy as np\n",
    "import pandas as pd\n",
    "from PIL import Image\n",
    "from scipy.signal import convolve2d as conv2, convolve\n",
    "from tqdm import tqdm\n",
    "import os\n",
    "from collections import Counter\n",
    "import matplotlib.image\n",
    "import torch\n",
    "import torch.optim as optim\n",
    "from torchvision import datasets, transforms\n",
    "from torch.utils.data import DataLoader\n",
    "import torchvision\n",
    "import matplotlib.pyplot as plt\n",
    "from torch.utils.data import random_split\n",
    "from torch import nn\n",
    "import torch.nn.functional as F"
   ]
  },
  {
   "cell_type": "code",
   "execution_count": 2,
   "metadata": {
    "colab": {
     "base_uri": "https://localhost:8080/"
    },
    "id": "iCvyW7n4sXLo",
    "outputId": "1a097542-c77c-4a57-d957-f2387f6ba3a0"
   },
   "outputs": [
    {
     "name": "stdout",
     "output_type": "stream",
     "text": [
      "Mounted at /content/drive\n"
     ]
    }
   ],
   "source": [
    "# Mounting data from google drive\n",
    "from google.colab import drive\n",
    "drive.mount('/content/drive')"
   ]
  },
  {
   "cell_type": "markdown",
   "metadata": {
    "id": "uxFS_45Is3C7"
   },
   "source": [
    "### Model"
   ]
  },
  {
   "cell_type": "markdown",
   "metadata": {
    "id": "bjPzdFBPdLkH"
   },
   "source": [
    "Define a class that implements the methods needed to train and validate the model.\n"
   ]
  },
  {
   "cell_type": "code",
   "execution_count": 3,
   "metadata": {
    "id": "GRnPNTDLsXUm"
   },
   "outputs": [],
   "source": [
    "class ImageClassificationBase(nn.Module):\n",
    "\n",
    "    def training_step(self, batch):\n",
    "        images, labels = batch\n",
    "        out = self(images)                  # Generate predictions\n",
    "        loss = F.cross_entropy(out, labels) # Calculate loss\n",
    "        return loss\n",
    "\n",
    "    def validation_step(self, batch):\n",
    "        images, labels = batch\n",
    "        out = self(images)                    # Generate predictions\n",
    "        loss = F.cross_entropy(out, labels)   # Calculate loss\n",
    "        acc = accuracy(out, labels)           # Calculate accuracy\n",
    "        return {'val_loss': loss.detach(), 'val_acc': acc}\n",
    "\n",
    "    def validation_epoch_end(self, outputs):\n",
    "        batch_losses = [x['val_loss'] for x in outputs]\n",
    "        epoch_loss = torch.stack(batch_losses).mean()   # Combine losses\n",
    "        batch_accs = [x['val_acc'] for x in outputs]\n",
    "        epoch_acc = torch.stack(batch_accs).mean()      # Combine accuracies\n",
    "        return {'val_loss': epoch_loss.item(), 'val_acc': epoch_acc.item()}\n",
    "\n",
    "    def epoch_end(self, epoch, result):\n",
    "        print(\"Epoch [{}], train_loss: {:.4f}, val_loss: {:.4f}, val_acc: {:.4f}\".format(\n",
    "            epoch, result['train_loss'], result['val_loss'], result['val_acc']))\n",
    "        \n",
    "def accuracy(outputs, labels):\n",
    "    _, preds = torch.max(outputs, dim=1)\n",
    "    return torch.tensor(torch.sum(preds == labels).item() / len(preds))"
   ]
  },
  {
   "cell_type": "markdown",
   "metadata": {
    "id": "RBrut3AyZTty"
   },
   "source": [
    "Define the layers of the convolutional neural network extending the base class described above."
   ]
  },
  {
   "cell_type": "code",
   "execution_count": 4,
   "metadata": {
    "id": "VwhE-ht4YOqH"
   },
   "outputs": [],
   "source": [
    "class CnnModel(ImageClassificationBase):\n",
    "  \n",
    "    def __init__(self):\n",
    "        super().__init__()\n",
    "\n",
    "        self.network = nn.Sequential(\n",
    "             \n",
    "             # Convolution & Pool ( queste sono 8 convoluzioni poi unite )\n",
    "             nn.Conv2d(1, 8, kernel_size=7, stride=1, padding=3),\n",
    "             nn.ReLU(),\n",
    "             nn.MaxPool2d(2,2),   # Output: 100 x 100 x 8\n",
    "\n",
    "             nn.Conv2d(8, 16, kernel_size=5, stride=1, padding=2),\n",
    "             nn.ReLU(),\n",
    "             nn.MaxPool2d(2, 2), # Output: 50 x 50 x 16\n",
    "\n",
    "             nn.Conv2d(16, 32, kernel_size=3, stride=1, padding=1),\n",
    "             nn.ReLU(),\n",
    "             nn.MaxPool2d(2, 2), # Output: 25 x 25 x 32\n",
    "             \n",
    "             nn.Conv2d(32,64, kernel_size=3, stride=1, padding=1),\n",
    "             nn.ReLU(),    # Output: 25 x 25 x 64\n",
    "\n",
    "             # Fully-Connected\n",
    "             nn.Flatten(),\n",
    "             nn.Linear(64 * 25 * 25, 10240), \n",
    "             nn.ReLU(),\n",
    "             nn.Linear(10240, 1024),\n",
    "             nn.ReLU(),\n",
    "             nn.Linear(1024, 512),\n",
    "             nn.ReLU(),\n",
    "             nn.Linear(512, 29))\n",
    "\n",
    "    def forward(self, xb):\n",
    "        return self.network(xb)"
   ]
  },
  {
   "cell_type": "markdown",
   "metadata": {
    "id": "PVPmv1M1XLsJ"
   },
   "source": [
    "Define a function to train the model and another one to evaluate its performance."
   ]
  },
  {
   "cell_type": "code",
   "execution_count": 5,
   "metadata": {
    "id": "e8Q47fNfVOVE"
   },
   "outputs": [],
   "source": [
    "def evaluate(model, val_loader):\n",
    "    outputs = [model.validation_step(batch) for batch in val_loader]\n",
    "    return model.validation_epoch_end(outputs)\n",
    "\n",
    "\n",
    "def fit(epochs, lr, model, train_loader, val_loader, opt_func=torch.optim.SGD, early_stop_limit=3):\n",
    "    history = []\n",
    "    optimizer = opt_func(model.parameters(), lr)\n",
    "\n",
    "    for epoch in tqdm(range(epochs)):\n",
    "        losses = []\n",
    "\n",
    "        # Training Phase\n",
    "        for batch in train_loader:\n",
    "            loss = model.training_step(batch)\n",
    "            loss.backward()\n",
    "            optimizer.step()\n",
    "            optimizer.zero_grad()\n",
    "            losses.append(loss.item())\n",
    "\n",
    "        # Validation phase\n",
    "        result = evaluate(model, val_loader) \n",
    "\n",
    "        # Add to results the train loss\n",
    "        result['train_loss'] = sum(losses) / len(losses)\n",
    "\n",
    "        model.epoch_end(epoch, result)\n",
    "        history.append(result)\n",
    "\n",
    "        # Save model\n",
    "        torch.save({\n",
    "            'epoch': epoch,\n",
    "            'model_state_dict': model.state_dict(),\n",
    "            'optimizer_state_dict': optimizer.state_dict(),\n",
    "            'loss':  result['val_loss'],\n",
    "            }, f'net{epoch}.pt')\n",
    "        \n",
    "\n",
    "        # Early stopping implementation\n",
    "        if len(history) >= early_stop_limit:\n",
    "\n",
    "          # Delete older models to save space\n",
    "          os.remove(f'net{epoch-2}.pt')\n",
    "\n",
    "          # Get last n validation losses\n",
    "          val_losses = [h['val_loss'] for h in history[-early_stop_limit:]]\n",
    "\n",
    "          # Return if early stop limit is reached\n",
    "          if sorted(val_losses) == val_losses:\n",
    "            return history\n",
    "      \n",
    "    return history"
   ]
  },
  {
   "cell_type": "markdown",
   "metadata": {
    "id": "z6oXz8EkQ0OV"
   },
   "source": [
    "### Helper functions"
   ]
  },
  {
   "cell_type": "code",
   "execution_count": 6,
   "metadata": {
    "id": "3w0in7hjQwez"
   },
   "outputs": [],
   "source": [
    "def plot_losses(history):\n",
    "    val_losses = [x['val_loss'] for x in history]\n",
    "    train_losses = [x['train_loss'] for x in history]\n",
    "\n",
    "    plt.plot(train_losses, '-x', label = \"Train Loss\")\n",
    "    plt.plot(val_losses, '-x', label = \"Val Loss\")\n",
    "\n",
    "    plt.xlabel('epoch')\n",
    "    plt.ylabel('loss')\n",
    "    plt.title('Losses vs. number of epochs')\n",
    "    plt.legend()\n",
    "    plt.show()\n",
    "\n",
    "def plot_accuracies(history):\n",
    "    accuracies = [x['val_acc'] for x in history]\n",
    "    plt.plot(accuracies, '-x', label = \"Val Accuracy\")\n",
    "    plt.xlabel('epoch')\n",
    "    plt.ylabel('accuracy')\n",
    "    plt.legend()\n",
    "    plt.title('Accuracy vs. number of epochs')"
   ]
  },
  {
   "cell_type": "code",
   "execution_count": 7,
   "metadata": {
    "colab": {
     "base_uri": "https://localhost:8080/"
    },
    "id": "4l_g9SojsXXc",
    "outputId": "61243356-381d-4cd2-ec5b-c7a5f2345945"
   },
   "outputs": [
    {
     "data": {
      "text/plain": [
       "device(type='cuda')"
      ]
     },
     "execution_count": 7,
     "metadata": {},
     "output_type": "execute_result"
    }
   ],
   "source": [
    "def get_default_device():\n",
    "    # Pick GPU if available, else CPU\n",
    "    if torch.cuda.is_available():\n",
    "        return torch.device('cuda')\n",
    "    else:\n",
    "        return torch.device('cpu')\n",
    "\n",
    "def to_device(data, device):\n",
    "    # Move tensor(s) to chosen device\n",
    "    if isinstance(data, (list,tuple)):\n",
    "        return [to_device(x, device) for x in data]\n",
    "    return data.to(device, non_blocking=True)\n",
    "\n",
    "class DeviceDataLoader():\n",
    "    # Wrap a dataloader to move data to a device\n",
    "    def __init__(self, dl, device):\n",
    "        self.dl = dl\n",
    "        self.device = device\n",
    "\n",
    "    def __iter__(self):\n",
    "        # Yield a batch of data after moving it to device\n",
    "        for b in self.dl:\n",
    "            yield to_device(b, self.device)\n",
    "\n",
    "    def __len__(self):\n",
    "        # Number of batches\n",
    "        return len(self.dl)\n",
    "\n",
    "device = get_default_device()\n",
    "device"
   ]
  },
  {
   "cell_type": "markdown",
   "metadata": {
    "id": "DAFL_VoEtNEG"
   },
   "source": [
    "### Loading Data"
   ]
  },
  {
   "cell_type": "code",
   "execution_count": 8,
   "metadata": {
    "colab": {
     "base_uri": "https://localhost:8080/"
    },
    "id": "_TXUboipsXdW",
    "outputId": "e81f43ab-95c0-4322-e05c-c760f917b4ef"
   },
   "outputs": [
    {
     "data": {
      "text/plain": [
       "(2900, 580)"
      ]
     },
     "execution_count": 8,
     "metadata": {},
     "output_type": "execute_result"
    }
   ],
   "source": [
    "# Steps applied to each image during the loading\n",
    "transform = transforms.Compose([\n",
    "    transforms.Grayscale(num_output_channels=1),\n",
    "    transforms.ToTensor()\n",
    "    ])\n",
    "\n",
    "# Setting batch size\n",
    "batch_size = 128\n",
    "\n",
    "# Load data\n",
    "dataset = datasets.ImageFolder(r'drive/MyDrive/data/train_selected', transform=transform)\n",
    "\n",
    "# Get class labels\n",
    "classes = dataset.classes\n",
    "\n",
    "# Split train and validation sets\n",
    "val_size = 580\n",
    "train_size = len(dataset) - val_size\n",
    "train_ds, val_ds = random_split(dataset, [train_size, val_size])\n",
    "len(train_ds), len(val_ds)"
   ]
  },
  {
   "cell_type": "code",
   "execution_count": 9,
   "metadata": {
    "id": "TODr6jJRsXgt"
   },
   "outputs": [],
   "source": [
    "# Define data loaders\n",
    "train_loader = DataLoader(train_ds, batch_size, shuffle=True, num_workers=2, pin_memory=True)\n",
    "val_loader = DataLoader(val_ds, batch_size, num_workers=2, pin_memory=True)\n",
    "\n",
    "# Assign devide to loaders\n",
    "train_dl = DeviceDataLoader(train_loader, device)\n",
    "val_dl = DeviceDataLoader(val_loader, device)"
   ]
  },
  {
   "cell_type": "markdown",
   "metadata": {
    "id": "3ZkfMxUcaQy2"
   },
   "source": [
    "### Training the Model"
   ]
  },
  {
   "cell_type": "code",
   "execution_count": null,
   "metadata": {
    "colab": {
     "base_uri": "https://localhost:8080/"
    },
    "id": "58QKpXq2sXlX",
    "outputId": "886339b9-4fa6-4577-b203-eaa18152be2a"
   },
   "outputs": [
    {
     "name": "stderr",
     "output_type": "stream",
     "text": [
      "  1%|          | 1/100 [00:36<1:00:58, 36.95s/it]"
     ]
    },
    {
     "name": "stdout",
     "output_type": "stream",
     "text": [
      "Epoch [0], train_loss: 3.3681, val_loss: 3.3642, val_acc: 0.0416\n"
     ]
    },
    {
     "name": "stderr",
     "output_type": "stream",
     "text": [
      "  2%|▏         | 2/100 [01:13<1:00:01, 36.75s/it]"
     ]
    },
    {
     "name": "stdout",
     "output_type": "stream",
     "text": [
      "Epoch [1], train_loss: 3.3558, val_loss: 3.3251, val_acc: 0.0813\n"
     ]
    },
    {
     "name": "stderr",
     "output_type": "stream",
     "text": [
      "  3%|▎         | 3/100 [01:50<59:18, 36.68s/it]  "
     ]
    },
    {
     "name": "stdout",
     "output_type": "stream",
     "text": [
      "Epoch [2], train_loss: 3.2147, val_loss: 3.0498, val_acc: 0.1390\n"
     ]
    },
    {
     "name": "stderr",
     "output_type": "stream",
     "text": [
      "  4%|▍         | 4/100 [02:26<58:39, 36.66s/it]"
     ]
    },
    {
     "name": "stdout",
     "output_type": "stream",
     "text": [
      "Epoch [3], train_loss: 2.9175, val_loss: 2.7590, val_acc: 0.2111\n"
     ]
    },
    {
     "name": "stderr",
     "output_type": "stream",
     "text": [
      "  5%|▌         | 5/100 [03:03<58:01, 36.64s/it]"
     ]
    },
    {
     "name": "stdout",
     "output_type": "stream",
     "text": [
      "Epoch [4], train_loss: 2.6622, val_loss: 2.5035, val_acc: 0.3038\n"
     ]
    },
    {
     "name": "stderr",
     "output_type": "stream",
     "text": [
      "  6%|▌         | 6/100 [03:40<57:23, 36.64s/it]"
     ]
    },
    {
     "name": "stdout",
     "output_type": "stream",
     "text": [
      "Epoch [5], train_loss: 2.4382, val_loss: 2.3014, val_acc: 0.3643\n"
     ]
    },
    {
     "name": "stderr",
     "output_type": "stream",
     "text": [
      "  7%|▋         | 7/100 [04:16<56:47, 36.64s/it]"
     ]
    },
    {
     "name": "stdout",
     "output_type": "stream",
     "text": [
      "Epoch [6], train_loss: 2.2379, val_loss: 2.1556, val_acc: 0.4209\n"
     ]
    },
    {
     "name": "stderr",
     "output_type": "stream",
     "text": [
      "  8%|▊         | 8/100 [04:53<56:12, 36.66s/it]"
     ]
    },
    {
     "name": "stdout",
     "output_type": "stream",
     "text": [
      "Epoch [7], train_loss: 2.0681, val_loss: 1.9431, val_acc: 0.4563\n"
     ]
    },
    {
     "name": "stderr",
     "output_type": "stream",
     "text": [
      "  9%|▉         | 9/100 [05:30<55:36, 36.67s/it]"
     ]
    },
    {
     "name": "stdout",
     "output_type": "stream",
     "text": [
      "Epoch [8], train_loss: 1.9094, val_loss: 1.7920, val_acc: 0.5170\n"
     ]
    },
    {
     "name": "stderr",
     "output_type": "stream",
     "text": [
      " 10%|█         | 10/100 [06:06<54:59, 36.66s/it]"
     ]
    },
    {
     "name": "stdout",
     "output_type": "stream",
     "text": [
      "Epoch [9], train_loss: 1.7668, val_loss: 1.7065, val_acc: 0.5231\n"
     ]
    },
    {
     "name": "stderr",
     "output_type": "stream",
     "text": [
      " 11%|█         | 11/100 [06:43<54:24, 36.68s/it]"
     ]
    },
    {
     "name": "stdout",
     "output_type": "stream",
     "text": [
      "Epoch [10], train_loss: 1.6364, val_loss: 1.5244, val_acc: 0.5860\n"
     ]
    },
    {
     "name": "stderr",
     "output_type": "stream",
     "text": [
      " 12%|█▏        | 12/100 [07:20<53:47, 36.67s/it]"
     ]
    },
    {
     "name": "stdout",
     "output_type": "stream",
     "text": [
      "Epoch [11], train_loss: 1.5125, val_loss: 1.4372, val_acc: 0.6150\n"
     ]
    },
    {
     "name": "stderr",
     "output_type": "stream",
     "text": [
      " 13%|█▎        | 13/100 [07:56<53:12, 36.69s/it]"
     ]
    },
    {
     "name": "stdout",
     "output_type": "stream",
     "text": [
      "Epoch [12], train_loss: 1.4026, val_loss: 1.3080, val_acc: 0.6468\n"
     ]
    },
    {
     "name": "stderr",
     "output_type": "stream",
     "text": [
      " 14%|█▍        | 14/100 [08:33<52:34, 36.68s/it]"
     ]
    },
    {
     "name": "stdout",
     "output_type": "stream",
     "text": [
      "Epoch [13], train_loss: 1.3000, val_loss: 1.2282, val_acc: 0.6710\n"
     ]
    },
    {
     "name": "stderr",
     "output_type": "stream",
     "text": [
      " 15%|█▌        | 15/100 [09:10<51:58, 36.68s/it]"
     ]
    },
    {
     "name": "stdout",
     "output_type": "stream",
     "text": [
      "Epoch [14], train_loss: 1.1920, val_loss: 1.1009, val_acc: 0.7299\n"
     ]
    },
    {
     "name": "stderr",
     "output_type": "stream",
     "text": [
      " 16%|█▌        | 16/100 [09:46<51:21, 36.68s/it]"
     ]
    },
    {
     "name": "stdout",
     "output_type": "stream",
     "text": [
      "Epoch [15], train_loss: 1.1092, val_loss: 1.0496, val_acc: 0.6960\n"
     ]
    },
    {
     "name": "stderr",
     "output_type": "stream",
     "text": [
      " 17%|█▋        | 17/100 [10:23<50:42, 36.66s/it]"
     ]
    },
    {
     "name": "stdout",
     "output_type": "stream",
     "text": [
      "Epoch [16], train_loss: 1.0145, val_loss: 1.0069, val_acc: 0.7332\n"
     ]
    },
    {
     "name": "stderr",
     "output_type": "stream",
     "text": [
      " 18%|█▊        | 18/100 [11:00<50:06, 36.67s/it]"
     ]
    },
    {
     "name": "stdout",
     "output_type": "stream",
     "text": [
      "Epoch [17], train_loss: 0.9390, val_loss: 0.8723, val_acc: 0.7611\n"
     ]
    },
    {
     "name": "stderr",
     "output_type": "stream",
     "text": [
      " 19%|█▉        | 19/100 [11:36<49:29, 36.66s/it]"
     ]
    },
    {
     "name": "stdout",
     "output_type": "stream",
     "text": [
      "Epoch [18], train_loss: 0.8678, val_loss: 0.7779, val_acc: 0.8022\n"
     ]
    },
    {
     "name": "stderr",
     "output_type": "stream",
     "text": [
      " 20%|██        | 20/100 [12:13<48:53, 36.67s/it]"
     ]
    },
    {
     "name": "stdout",
     "output_type": "stream",
     "text": [
      "Epoch [19], train_loss: 0.7870, val_loss: 0.7251, val_acc: 0.8192\n"
     ]
    },
    {
     "name": "stderr",
     "output_type": "stream",
     "text": [
      " 21%|██        | 21/100 [12:50<48:16, 36.67s/it]"
     ]
    },
    {
     "name": "stdout",
     "output_type": "stream",
     "text": [
      "Epoch [20], train_loss: 0.7307, val_loss: 0.6486, val_acc: 0.8327\n"
     ]
    },
    {
     "name": "stderr",
     "output_type": "stream",
     "text": [
      " 22%|██▏       | 22/100 [13:26<47:40, 36.67s/it]"
     ]
    },
    {
     "name": "stdout",
     "output_type": "stream",
     "text": [
      "Epoch [21], train_loss: 0.6684, val_loss: 0.5849, val_acc: 0.8522\n"
     ]
    },
    {
     "name": "stderr",
     "output_type": "stream",
     "text": [
      " 23%|██▎       | 23/100 [14:03<47:04, 36.68s/it]"
     ]
    },
    {
     "name": "stdout",
     "output_type": "stream",
     "text": [
      "Epoch [22], train_loss: 0.6201, val_loss: 0.5619, val_acc: 0.8475\n"
     ]
    },
    {
     "name": "stderr",
     "output_type": "stream",
     "text": [
      " 24%|██▍       | 24/100 [14:40<46:27, 36.68s/it]"
     ]
    },
    {
     "name": "stdout",
     "output_type": "stream",
     "text": [
      "Epoch [23], train_loss: 0.5725, val_loss: 0.4656, val_acc: 0.8790\n"
     ]
    },
    {
     "name": "stderr",
     "output_type": "stream",
     "text": [
      " 25%|██▌       | 25/100 [15:16<45:50, 36.67s/it]"
     ]
    },
    {
     "name": "stdout",
     "output_type": "stream",
     "text": [
      "Epoch [24], train_loss: 0.5226, val_loss: 0.5123, val_acc: 0.8694\n"
     ]
    },
    {
     "name": "stderr",
     "output_type": "stream",
     "text": [
      " 26%|██▌       | 26/100 [15:53<45:14, 36.68s/it]"
     ]
    },
    {
     "name": "stdout",
     "output_type": "stream",
     "text": [
      "Epoch [25], train_loss: 0.4687, val_loss: 0.4336, val_acc: 0.8751\n"
     ]
    },
    {
     "name": "stderr",
     "output_type": "stream",
     "text": [
      " 27%|██▋       | 27/100 [16:30<44:38, 36.69s/it]"
     ]
    },
    {
     "name": "stdout",
     "output_type": "stream",
     "text": [
      "Epoch [26], train_loss: 0.4312, val_loss: 0.3597, val_acc: 0.9087\n"
     ]
    },
    {
     "name": "stderr",
     "output_type": "stream",
     "text": [
      " 28%|██▊       | 28/100 [17:06<44:01, 36.69s/it]"
     ]
    },
    {
     "name": "stdout",
     "output_type": "stream",
     "text": [
      "Epoch [27], train_loss: 0.4026, val_loss: 0.3435, val_acc: 0.9105\n"
     ]
    },
    {
     "name": "stderr",
     "output_type": "stream",
     "text": [
      " 29%|██▉       | 29/100 [17:43<43:25, 36.70s/it]"
     ]
    },
    {
     "name": "stdout",
     "output_type": "stream",
     "text": [
      "Epoch [28], train_loss: 0.3503, val_loss: 0.2996, val_acc: 0.9275\n"
     ]
    },
    {
     "name": "stderr",
     "output_type": "stream",
     "text": [
      " 30%|███       | 30/100 [18:20<42:48, 36.69s/it]"
     ]
    },
    {
     "name": "stdout",
     "output_type": "stream",
     "text": [
      "Epoch [29], train_loss: 0.3359, val_loss: 0.2918, val_acc: 0.9046\n"
     ]
    },
    {
     "name": "stderr",
     "output_type": "stream",
     "text": [
      " 31%|███       | 31/100 [18:57<42:11, 36.68s/it]"
     ]
    },
    {
     "name": "stdout",
     "output_type": "stream",
     "text": [
      "Epoch [30], train_loss: 0.3021, val_loss: 0.2807, val_acc: 0.9093\n"
     ]
    },
    {
     "name": "stderr",
     "output_type": "stream",
     "text": [
      " 32%|███▏      | 32/100 [19:33<41:33, 36.67s/it]"
     ]
    },
    {
     "name": "stdout",
     "output_type": "stream",
     "text": [
      "Epoch [31], train_loss: 0.2797, val_loss: 0.2403, val_acc: 0.9355\n"
     ]
    },
    {
     "name": "stderr",
     "output_type": "stream",
     "text": [
      " 33%|███▎      | 33/100 [20:10<40:56, 36.67s/it]"
     ]
    },
    {
     "name": "stdout",
     "output_type": "stream",
     "text": [
      "Epoch [32], train_loss: 0.2705, val_loss: 0.1725, val_acc: 0.9599\n"
     ]
    },
    {
     "name": "stderr",
     "output_type": "stream",
     "text": [
      " 34%|███▍      | 34/100 [20:46<40:19, 36.65s/it]"
     ]
    },
    {
     "name": "stdout",
     "output_type": "stream",
     "text": [
      "Epoch [33], train_loss: 0.2339, val_loss: 0.2617, val_acc: 0.9414\n"
     ]
    },
    {
     "name": "stderr",
     "output_type": "stream",
     "text": [
      " 35%|███▌      | 35/100 [21:23<39:43, 36.67s/it]"
     ]
    },
    {
     "name": "stdout",
     "output_type": "stream",
     "text": [
      "Epoch [34], train_loss: 0.2133, val_loss: 0.1354, val_acc: 0.9799\n"
     ]
    },
    {
     "name": "stderr",
     "output_type": "stream",
     "text": [
      " 36%|███▌      | 36/100 [22:00<39:06, 36.66s/it]"
     ]
    },
    {
     "name": "stdout",
     "output_type": "stream",
     "text": [
      "Epoch [35], train_loss: 0.1938, val_loss: 0.1426, val_acc: 0.9705\n"
     ]
    },
    {
     "name": "stderr",
     "output_type": "stream",
     "text": [
      " 36%|███▌      | 36/100 [22:36<40:12, 37.69s/it]"
     ]
    },
    {
     "name": "stdout",
     "output_type": "stream",
     "text": [
      "Epoch [36], train_loss: 0.1688, val_loss: 0.1783, val_acc: 0.9599\n"
     ]
    },
    {
     "name": "stderr",
     "output_type": "stream",
     "text": [
      "\n"
     ]
    }
   ],
   "source": [
    "# Setting: max number of epochs, the optimization function and the learning rate\n",
    "num_epochs = 100\n",
    "opt_func = torch.optim.Adam\n",
    "lr= 0.00001\n",
    "early_stop_limit = 3\n",
    "\n",
    "# Setting a seed for reproducibility\n",
    "random_seed = 42\n",
    "torch.manual_seed(random_seed)\n",
    "\n",
    "# Instantiate the model\n",
    "net = CnnModel()\n",
    "to_device(net, device)\n",
    "\n",
    "# Training\n",
    "history = fit(num_epochs, lr, net, train_dl, val_dl, opt_func, early_stop_limit)"
   ]
  },
  {
   "cell_type": "code",
   "execution_count": null,
   "metadata": {
    "colab": {
     "base_uri": "https://localhost:8080/",
     "height": 295
    },
    "id": "OOzjvYRRKjxT",
    "outputId": "8a5800d4-f6b6-42f4-9737-0f3729eda114"
   },
   "outputs": [
    {
     "data": {
      "image/png": "[encoded data removed]",
      "text/plain": [
       "<Figure size 432x288 with 1 Axes>"
      ]
     },
     "metadata": {
      "needs_background": "light"
     },
     "output_type": "display_data"
    }
   ],
   "source": [
    "plot_losses(history)"
   ]
  },
  {
   "cell_type": "code",
   "execution_count": null,
   "metadata": {
    "colab": {
     "base_uri": "https://localhost:8080/",
     "height": 295
    },
    "id": "aZ0_RiPrKuRB",
    "outputId": "d917ff51-efa6-49d7-f2a3-1a4ec4e02a1c"
   },
   "outputs": [
    {
     "data": {
      "image/png": "[encoded data removed]",
      "text/plain": [
       "<Figure size 432x288 with 1 Axes>"
      ]
     },
     "metadata": {
      "needs_background": "light"
     },
     "output_type": "display_data"
    }
   ],
   "source": [
    "plot_accuracies(history)"
   ]
  },
  {
   "cell_type": "markdown",
   "metadata": {
    "id": "kH1COcrhtgq0"
   },
   "source": [
    "### Testing the Model"
   ]
  },
  {
   "cell_type": "markdown",
   "metadata": {
    "id": "QDAB2uzKccIA"
   },
   "source": [
    "Retrive the model from best epoch."
   ]
  },
  {
   "cell_type": "code",
   "execution_count": null,
   "metadata": {
    "colab": {
     "base_uri": "https://localhost:8080/"
    },
    "id": "oeIv7yRVa_rt",
    "outputId": "318262c8-847a-4d2e-c4ea-d61b2aa8c8c3"
   },
   "outputs": [],
   "source": [
    "EPOCH = len(history) - early_stop_limit + 1\n",
    "PATH = f'net{EPOCH}.pt'\n",
    "\n",
    "net = CnnModel()\n",
    "to_device(net, device)\n",
    "\n",
    "checkpoint = torch.load(PATH, map_location=torch.device('cpu'))\n",
    "net.load_state_dict(checkpoint['model_state_dict'])"
   ]
  },
  {
   "cell_type": "markdown",
   "metadata": {
    "id": "2xKvrnZYbKvT"
   },
   "source": [
    "Test the model against all test images."
   ]
  },
  {
   "cell_type": "code",
   "execution_count": null,
   "metadata": {
    "colab": {
     "base_uri": "https://localhost:8080/",
     "height": 341
    },
    "id": "7sBPRGO3teYm",
    "outputId": "994e9b50-11fa-41a9-b2e4-5bc46ea9bb43"
   },
   "outputs": [
    {
     "data": {
      "image/png": "[encoded data removed]",
      "text/plain": [
       "<Figure size 432x288 with 1 Axes>"
      ]
     },
     "metadata": {
      "needs_background": "light"
     },
     "output_type": "display_data"
    },
    {
     "name": "stdout",
     "output_type": "stream",
     "text": [
      "GroundTruth:  A A A A A A A A A A A A A A A A A A B B B B B B B B B B B B B B B B B B C C C C C C C C C C C C C C C C C C D D D D D D D D D D D D D D D D D D E E E E E E E E E E E E E E E E E E F F F F F F F F F F F F F F F F F F G G G G G G G G G G G G G G G G G G H H H H H H H H H H H H H H H H H H I I I I I I I I I I I I I I I I I I J J J J J J J J J J J J J J J J J J K K K K K K K K K K K K K K K K K K L L L L L L L L L L L L L L L L L L M M M M M M M M M M M M M M M M M M N N N N N N N N N N N N N N N N N N O O O O O O O O O O O O O O O O O O P P P P P P P P P P P P P P P P P P Q Q Q Q Q Q Q Q Q Q Q Q Q Q Q Q Q Q R R R R R R R R R R R R R R R R R R S S S S S S S S S S S S S S S S S S T T T T T T T T T T T T T T T T T T U U U U U U U U U U U U U U U U U U V V V V V V V V V V V V V V V V V V W W W W W W W W W W W W W W W W W W X X X X X X X X X X X X X X X X X X Y Y Y Y Y Y Y Y Y Y Y Y Y Y Y Y Y Y Z Z Z Z Z Z Z Z Z Z Z Z Z Z Z Z Z Z del del del del del del del del del del del del del del del del del del nothing nothing nothing nothing nothing nothing nothing nothing nothing nothing nothing nothing nothing nothing nothing nothing nothing nothing space space space space space space space space space space space space space space space space space space\n",
      "Predicted:  A A A A A A B V A A A A A A C A A A B B B B B B B B B B B B B B Q B B B B I I I C C C A B C C C C C C C C C D D D D D D D D D D F D D D T D D D E E E E E A B C E E E E E E Y E E E F F F F F F C G F F F E E E N F F F G G G G G G G G G G G G P P G G G G H H H D D D H H H H H H H J G H H H I I I I I I I H I I I I I J N I I I J J J J J J J J J J M J J J V J J P K K K K K K K K K K H K K K S K K K L L L L L L L L L L L L Y Y X L L L M M M M M M M M M K K M M M B M M M N N N U U U N N N N N N N N R N N N O O O O O O O O O O R O L L T O O O space space space P P P J G P P P Q Q Q P P P P Q Q Q U U U Q Q Q nothing nothing Q Q Q nothing V V V U U U R R R R T R R R V V V X R R T X X X Z Z Z V V S S S S S S T S S S T T T T T T S T T T T T T T space T T T U U U U U U N N U U U U U U U U Y Y V V V V V V V V V V E V V V N V V V V V V X X X T W W W W U U U B W W W X X X X X X A Y X X X X X X N X X X S S S Y Y Y Y Y Y Y Y Y Y Y L Y Y Y Z Z Z Z Z Z Z Z Z Z Z Z Z Z H Z Z Z X X X del del del Y Y del del del del del del Z del del del nothing nothing nothing nothing nothing nothing nothing nothing nothing nothing nothing nothing nothing nothing R nothing nothing nothing space space space space space space space Y space space space space space space nothing space space space\n",
      "Accuracy: 76.62835249042146 %\n"
     ]
    }
   ],
   "source": [
    "test_set = datasets.ImageFolder('/content/drive/MyDrive/data/test_selected', transform=transform)\n",
    "test_loader = DataLoader(test_set, batch_size = 522, num_workers=2, pin_memory=True) \n",
    "\n",
    "dataiter = iter(test_loader)\n",
    "images, labels = next(dataiter)\n",
    "model = net.cpu()\n",
    "\n",
    "imshow(torchvision.utils.make_grid(images, nrow=10))\n",
    "\n",
    "targets = [f'{classes[label]}' for label in labels]\n",
    "print('GroundTruth: ', ' '.join(targets))\n",
    "\n",
    "outputs = net(images)\n",
    "_, predicted = torch.max(outputs, 1)\n",
    "\n",
    "preds = [f'{classes[pred]}' for pred in predicted]\n",
    "print('Predicted: ', ' '.join(preds))\n",
    "\n",
    "accuracy = sum(1 for target, pred in zip(targets, preds) if target == pred) / len(targets) * 100\n",
    "print(f'Accuracy: {accuracy} %')"
   ]
  },
  {
   "cell_type": "markdown",
   "metadata": {
    "id": "mB-s77VcbcKH"
   },
   "source": [
    "Get a detailed report based on previous predictions."
   ]
  },
  {
   "cell_type": "code",
   "execution_count": null,
   "metadata": {
    "colab": {
     "base_uri": "https://localhost:8080/",
     "height": 959
    },
    "id": "SO-vVe-TTRMm",
    "outputId": "e776bf06-4024-4eed-edc7-2e4a9e40059b"
   },
   "outputs": [
    {
     "data": {
      "text/html": [
       "\n",
       "  <div id=\"df-7381bd97-16f5-4338-aa19-bedd5a167a4b\">\n",
       "    <div class=\"colab-df-container\">\n",
       "      <div>\n",
       "<style scoped>\n",
       "    .dataframe tbody tr th:only-of-type {\n",
       "        vertical-align: middle;\n",
       "    }\n",
       "\n",
       "    .dataframe tbody tr th {\n",
       "        vertical-align: top;\n",
       "    }\n",
       "\n",
       "    .dataframe thead th {\n",
       "        text-align: right;\n",
       "    }\n",
       "</style>\n",
       "<table border=\"1\" class=\"dataframe\">\n",
       "  <thead>\n",
       "    <tr style=\"text-align: right;\">\n",
       "      <th></th>\n",
       "      <th>Predicted</th>\n",
       "      <th>Second Choice</th>\n",
       "      <th>Third Choice</th>\n",
       "    </tr>\n",
       "  </thead>\n",
       "  <tbody>\n",
       "    <tr>\n",
       "      <th>A</th>\n",
       "      <td>A : 0.83</td>\n",
       "      <td>B : 0.06</td>\n",
       "      <td>V : 0.06</td>\n",
       "    </tr>\n",
       "    <tr>\n",
       "      <th>B</th>\n",
       "      <td>B : 0.94</td>\n",
       "      <td>Q : 0.06</td>\n",
       "      <td></td>\n",
       "    </tr>\n",
       "    <tr>\n",
       "      <th>C</th>\n",
       "      <td>C : 0.67</td>\n",
       "      <td>I : 0.17</td>\n",
       "      <td>B : 0.11</td>\n",
       "    </tr>\n",
       "    <tr>\n",
       "      <th>D</th>\n",
       "      <td>D : 0.89</td>\n",
       "      <td>F : 0.06</td>\n",
       "      <td>T : 0.06</td>\n",
       "    </tr>\n",
       "    <tr>\n",
       "      <th>E</th>\n",
       "      <td>E : 0.78</td>\n",
       "      <td>A : 0.06</td>\n",
       "      <td>B : 0.06</td>\n",
       "    </tr>\n",
       "    <tr>\n",
       "      <th>F</th>\n",
       "      <td>F : 0.67</td>\n",
       "      <td>E : 0.17</td>\n",
       "      <td>C : 0.06</td>\n",
       "    </tr>\n",
       "    <tr>\n",
       "      <th>G</th>\n",
       "      <td>G : 0.89</td>\n",
       "      <td>P : 0.11</td>\n",
       "      <td></td>\n",
       "    </tr>\n",
       "    <tr>\n",
       "      <th>H</th>\n",
       "      <td>H : 0.72</td>\n",
       "      <td>D : 0.17</td>\n",
       "      <td>J : 0.06</td>\n",
       "    </tr>\n",
       "    <tr>\n",
       "      <th>I</th>\n",
       "      <td>I : 0.83</td>\n",
       "      <td>H : 0.06</td>\n",
       "      <td>J : 0.06</td>\n",
       "    </tr>\n",
       "    <tr>\n",
       "      <th>J</th>\n",
       "      <td>J : 0.83</td>\n",
       "      <td>M : 0.06</td>\n",
       "      <td>V : 0.06</td>\n",
       "    </tr>\n",
       "    <tr>\n",
       "      <th>K</th>\n",
       "      <td>K : 0.89</td>\n",
       "      <td>H : 0.06</td>\n",
       "      <td>S : 0.06</td>\n",
       "    </tr>\n",
       "    <tr>\n",
       "      <th>L</th>\n",
       "      <td>L : 0.83</td>\n",
       "      <td>Y : 0.11</td>\n",
       "      <td>X : 0.06</td>\n",
       "    </tr>\n",
       "    <tr>\n",
       "      <th>M</th>\n",
       "      <td>M : 0.83</td>\n",
       "      <td>K : 0.11</td>\n",
       "      <td>B : 0.06</td>\n",
       "    </tr>\n",
       "    <tr>\n",
       "      <th>N</th>\n",
       "      <td>N : 0.78</td>\n",
       "      <td>U : 0.17</td>\n",
       "      <td>R : 0.06</td>\n",
       "    </tr>\n",
       "    <tr>\n",
       "      <th>O</th>\n",
       "      <td>O : 0.78</td>\n",
       "      <td>L : 0.11</td>\n",
       "      <td>R : 0.06</td>\n",
       "    </tr>\n",
       "    <tr>\n",
       "      <th>P</th>\n",
       "      <td>P : 0.56</td>\n",
       "      <td>space : 0.17</td>\n",
       "      <td>Q : 0.17</td>\n",
       "    </tr>\n",
       "    <tr>\n",
       "      <th>Q</th>\n",
       "      <td>Q : 0.5</td>\n",
       "      <td>U : 0.17</td>\n",
       "      <td>nothing : 0.17</td>\n",
       "    </tr>\n",
       "    <tr>\n",
       "      <th>R</th>\n",
       "      <td>R : 0.5</td>\n",
       "      <td>U : 0.17</td>\n",
       "      <td>V : 0.17</td>\n",
       "    </tr>\n",
       "    <tr>\n",
       "      <th>S</th>\n",
       "      <td>S : 0.5</td>\n",
       "      <td>X : 0.17</td>\n",
       "      <td>Z : 0.17</td>\n",
       "    </tr>\n",
       "    <tr>\n",
       "      <th>T</th>\n",
       "      <td>T : 0.89</td>\n",
       "      <td>S : 0.06</td>\n",
       "      <td>space : 0.06</td>\n",
       "    </tr>\n",
       "    <tr>\n",
       "      <th>U</th>\n",
       "      <td>U : 0.78</td>\n",
       "      <td>N : 0.11</td>\n",
       "      <td>Y : 0.11</td>\n",
       "    </tr>\n",
       "    <tr>\n",
       "      <th>V</th>\n",
       "      <td>V : 0.89</td>\n",
       "      <td>E : 0.06</td>\n",
       "      <td>N : 0.06</td>\n",
       "    </tr>\n",
       "    <tr>\n",
       "      <th>W</th>\n",
       "      <td>W : 0.39</td>\n",
       "      <td>V : 0.17</td>\n",
       "      <td>X : 0.17</td>\n",
       "    </tr>\n",
       "    <tr>\n",
       "      <th>X</th>\n",
       "      <td>X : 0.83</td>\n",
       "      <td>A : 0.06</td>\n",
       "      <td>Y : 0.06</td>\n",
       "    </tr>\n",
       "    <tr>\n",
       "      <th>Y</th>\n",
       "      <td>Y : 0.78</td>\n",
       "      <td>S : 0.17</td>\n",
       "      <td>L : 0.06</td>\n",
       "    </tr>\n",
       "    <tr>\n",
       "      <th>Z</th>\n",
       "      <td>Z : 0.94</td>\n",
       "      <td>H : 0.06</td>\n",
       "      <td></td>\n",
       "    </tr>\n",
       "    <tr>\n",
       "      <th>del</th>\n",
       "      <td>del : 0.67</td>\n",
       "      <td>X : 0.17</td>\n",
       "      <td>Y : 0.11</td>\n",
       "    </tr>\n",
       "    <tr>\n",
       "      <th>nothing</th>\n",
       "      <td>nothing : 0.94</td>\n",
       "      <td>R : 0.06</td>\n",
       "      <td></td>\n",
       "    </tr>\n",
       "    <tr>\n",
       "      <th>space</th>\n",
       "      <td>space : 0.89</td>\n",
       "      <td>Y : 0.06</td>\n",
       "      <td>nothing : 0.06</td>\n",
       "    </tr>\n",
       "  </tbody>\n",
       "</table>\n",
       "</div>\n",
       "      <button class=\"colab-df-convert\" onclick=\"convertToInteractive('df-7381bd97-16f5-4338-aa19-bedd5a167a4b')\"\n",
       "              title=\"Convert this dataframe to an interactive table.\"\n",
       "              style=\"display:none;\">\n",
       "        \n",
       "  <svg xmlns=\"http://www.w3.org/2000/svg\" height=\"24px\"viewBox=\"0 0 24 24\"\n",
       "       width=\"24px\">\n",
       "    <path d=\"M0 0h24v24H0V0z\" fill=\"none\"/>\n",
       "    <path d=\"M18.56 5.44l.94 2.06.94-2.06 2.06-.94-2.06-.94-.94-2.06-.94 2.06-2.06.94zm-11 1L8.5 8.5l.94-2.06 2.06-.94-2.06-.94L8.5 2.5l-.94 2.06-2.06.94zm10 10l.94 2.06.94-2.06 2.06-.94-2.06-.94-.94-2.06-.94 2.06-2.06.94z\"/><path d=\"M17.41 7.96l-1.37-1.37c-.4-.4-.92-.59-1.43-.59-.52 0-1.04.2-1.43.59L10.3 9.45l-7.72 7.72c-.78.78-.78 2.05 0 2.83L4 21.41c.39.39.9.59 1.41.59.51 0 1.02-.2 1.41-.59l7.78-7.78 2.81-2.81c.8-.78.8-2.07 0-2.86zM5.41 20L4 18.59l7.72-7.72 1.47 1.35L5.41 20z\"/>\n",
       "  </svg>\n",
       "      </button>\n",
       "      \n",
       "  <style>\n",
       "    .colab-df-container {\n",
       "      display:flex;\n",
       "      flex-wrap:wrap;\n",
       "      gap: 12px;\n",
       "    }\n",
       "\n",
       "    .colab-df-convert {\n",
       "      background-color: #E8F0FE;\n",
       "      border: none;\n",
       "      border-radius: 50%;\n",
       "      cursor: pointer;\n",
       "      display: none;\n",
       "      fill: #1967D2;\n",
       "      height: 32px;\n",
       "      padding: 0 0 0 0;\n",
       "      width: 32px;\n",
       "    }\n",
       "\n",
       "    .colab-df-convert:hover {\n",
       "      background-color: #E2EBFA;\n",
       "      box-shadow: 0px 1px 2px rgba(60, 64, 67, 0.3), 0px 1px 3px 1px rgba(60, 64, 67, 0.15);\n",
       "      fill: #174EA6;\n",
       "    }\n",
       "\n",
       "    [theme=dark] .colab-df-convert {\n",
       "      background-color: #3B4455;\n",
       "      fill: #D2E3FC;\n",
       "    }\n",
       "\n",
       "    [theme=dark] .colab-df-convert:hover {\n",
       "      background-color: #434B5C;\n",
       "      box-shadow: 0px 1px 3px 1px rgba(0, 0, 0, 0.15);\n",
       "      filter: drop-shadow(0px 1px 2px rgba(0, 0, 0, 0.3));\n",
       "      fill: #FFFFFF;\n",
       "    }\n",
       "  </style>\n",
       "\n",
       "      <script>\n",
       "        const buttonEl =\n",
       "          document.querySelector('#df-7381bd97-16f5-4338-aa19-bedd5a167a4b button.colab-df-convert');\n",
       "        buttonEl.style.display =\n",
       "          google.colab.kernel.accessAllowed ? 'block' : 'none';\n",
       "\n",
       "        async function convertToInteractive(key) {\n",
       "          const element = document.querySelector('#df-7381bd97-16f5-4338-aa19-bedd5a167a4b');\n",
       "          const dataTable =\n",
       "            await google.colab.kernel.invokeFunction('convertToInteractive',\n",
       "                                                     [key], {});\n",
       "          if (!dataTable) return;\n",
       "\n",
       "          const docLinkHtml = 'Like what you see? Visit the ' +\n",
       "            '<a target=\"_blank\" href=https://colab.research.google.com/notebooks/data_table.ipynb>data table notebook</a>'\n",
       "            + ' to learn more about interactive tables.';\n",
       "          element.innerHTML = '';\n",
       "          dataTable['output_type'] = 'display_data';\n",
       "          await google.colab.output.renderOutput(dataTable, element);\n",
       "          const docLink = document.createElement('div');\n",
       "          docLink.innerHTML = docLinkHtml;\n",
       "          element.appendChild(docLink);\n",
       "        }\n",
       "      </script>\n",
       "    </div>\n",
       "  </div>\n",
       "  "
      ],
      "text/plain": [
       "              Predicted Second Choice    Third Choice\n",
       "A              A : 0.83      B : 0.06        V : 0.06\n",
       "B              B : 0.94      Q : 0.06                \n",
       "C              C : 0.67      I : 0.17        B : 0.11\n",
       "D              D : 0.89      F : 0.06        T : 0.06\n",
       "E              E : 0.78      A : 0.06        B : 0.06\n",
       "F              F : 0.67      E : 0.17        C : 0.06\n",
       "G              G : 0.89      P : 0.11                \n",
       "H              H : 0.72      D : 0.17        J : 0.06\n",
       "I              I : 0.83      H : 0.06        J : 0.06\n",
       "J              J : 0.83      M : 0.06        V : 0.06\n",
       "K              K : 0.89      H : 0.06        S : 0.06\n",
       "L              L : 0.83      Y : 0.11        X : 0.06\n",
       "M              M : 0.83      K : 0.11        B : 0.06\n",
       "N              N : 0.78      U : 0.17        R : 0.06\n",
       "O              O : 0.78      L : 0.11        R : 0.06\n",
       "P              P : 0.56  space : 0.17        Q : 0.17\n",
       "Q               Q : 0.5      U : 0.17  nothing : 0.17\n",
       "R               R : 0.5      U : 0.17        V : 0.17\n",
       "S               S : 0.5      X : 0.17        Z : 0.17\n",
       "T              T : 0.89      S : 0.06    space : 0.06\n",
       "U              U : 0.78      N : 0.11        Y : 0.11\n",
       "V              V : 0.89      E : 0.06        N : 0.06\n",
       "W              W : 0.39      V : 0.17        X : 0.17\n",
       "X              X : 0.83      A : 0.06        Y : 0.06\n",
       "Y              Y : 0.78      S : 0.17        L : 0.06\n",
       "Z              Z : 0.94      H : 0.06                \n",
       "del          del : 0.67      X : 0.17        Y : 0.11\n",
       "nothing  nothing : 0.94      R : 0.06                \n",
       "space      space : 0.89      Y : 0.06  nothing : 0.06"
      ]
     },
     "execution_count": 14,
     "metadata": {},
     "output_type": "execute_result"
    }
   ],
   "source": [
    "report = pd.DataFrame()\n",
    "\n",
    "# Loop for each tested class\n",
    "for t in sorted(set(targets)):\n",
    "\n",
    "    # Get indexes from targets for current class\n",
    "    indexes = [i for i, val in enumerate(targets) if val == t]\n",
    "\n",
    "    # Get all corresponding predictions\n",
    "    predicted = [preds[i] for i in indexes]\n",
    "\n",
    "    # Get the 3 most predicted values for the current class\n",
    "    counts = Counter(predicted).most_common(3)\n",
    "\n",
    "    # Calculate percentages and format output\n",
    "    counts = [f'{pred} : {round(count / len(indexes), 2)}' for pred, count in counts]\n",
    "\n",
    "    # Fix length of counts if it's less than 3\n",
    "    counts += [''] * (3 - len(counts))\n",
    "\n",
    "    # Save to report\n",
    "    row = pd.DataFrame({'Predicted': counts[0], 'Second Choice': counts[1], 'Third Choice': counts[2]}, index=[t])\n",
    "    report = pd.concat([report, row])\n",
    "\n",
    "report"
   ]
  }
 ],
 "metadata": {
  "accelerator": "GPU",
  "colab": {
   "provenance": []
  },
  "gpuClass": "standard",
  "kernelspec": {
   "display_name": "Python 3 (ipykernel)",
   "language": "python",
   "name": "python3"
  },
  "language_info": {
   "codemirror_mode": {
    "name": "ipython",
    "version": 3
   },
   "file_extension": ".py",
   "mimetype": "text/x-python",
   "name": "python",
   "nbconvert_exporter": "python",
   "pygments_lexer": "ipython3",
   "version": "3.9.12"
  }
 },
 "nbformat": 4,
 "nbformat_minor": 4
}
